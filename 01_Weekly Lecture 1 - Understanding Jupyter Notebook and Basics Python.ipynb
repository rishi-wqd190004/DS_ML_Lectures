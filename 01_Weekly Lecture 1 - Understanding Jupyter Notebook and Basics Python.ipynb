{
 "cells": [
  {
   "cell_type": "markdown",
   "id": "66b3c0ce",
   "metadata": {},
   "source": [
    "# Understanding Jupyter Notebook and Basics Python"
   ]
  },
  {
   "cell_type": "markdown",
   "id": "9e7be9c3",
   "metadata": {},
   "source": [
    "# Jupyter Notebook or Jupyter Lab"
   ]
  },
  {
   "cell_type": "code",
   "execution_count": 2,
   "id": "eae0d95a-2515-4206-83d0-a13bd2542bb0",
   "metadata": {
    "scrolled": true
   },
   "outputs": [
    {
     "name": "stdout",
     "output_type": "stream",
     "text": [
      "my name is rishi\n"
     ]
    }
   ],
   "source": [
    "print(\"my name is rishi\")"
   ]
  },
  {
   "cell_type": "markdown",
   "id": "cdc4ddef",
   "metadata": {},
   "source": [
    "### The Jupyter Notebook is an open source web application that you can use to create and share documents that contain live code, equations, visualizations, and text. "
   ]
  },
  {
   "cell_type": "markdown",
   "id": "33246729",
   "metadata": {},
   "source": [
    "# Installing Jupyter Notebook"
   ]
  },
  {
   "cell_type": "markdown",
   "id": "ae02d72b",
   "metadata": {},
   "source": [
    "### To use Jupyter Notebook you need Anaconda Navigator on Windows, please follow the steps below:\n",
    "\n",
    "### 1. Go to the Anaconda website (https://www.anaconda.com/products/individual) and download the Anaconda installer for Windows.\n",
    "### 2. Once the download is complete, double-click the installer to begin the installation process.\n",
    "### Follow the prompts in the installation wizard to install Anaconda on your computer. When prompted, you can choose to install Anaconda for just your user account or for all users on the computer.\n",
    "### 3. After installation is complete, open the Anaconda Navigator.\n",
    "### 4. When you open the Anaconda Navigator for the first time, it may take a few moments to set up your environment. Once it's finished, you should see a dashboard with several options for launching different applications, including Jupyter Notebook, Spyder, and RStudio.\n",
    "### 5. Click on Launch Jupyter Notebook\n",
    "### That's it! You're now ready to start using Jupyter Notebook on your Windows computer."
   ]
  },
  {
   "cell_type": "markdown",
   "id": "8a400bed",
   "metadata": {},
   "source": [
    "# Python Variables"
   ]
  },
  {
   "cell_type": "markdown",
   "id": "3b980c75",
   "metadata": {},
   "source": [
    "### Variables are containers for storing data values.\n",
    "### A variable is created the moment you first assign a value to it."
   ]
  },
  {
   "cell_type": "code",
   "execution_count": 3,
   "id": "b02b32ed",
   "metadata": {},
   "outputs": [
    {
     "name": "stdout",
     "output_type": "stream",
     "text": [
      "555\n",
      "new x val:  1\n",
      "1\n",
      "CAPABL\n"
     ]
    }
   ],
   "source": [
    "x = '555'\n",
    "print(x)\n",
    "x = 1\n",
    "print('new x val: ', x)\n",
    "y = \"CAPABL\"\n",
    "print(x)\n",
    "print(y)"
   ]
  },
  {
   "cell_type": "code",
   "execution_count": 4,
   "id": "0937f761",
   "metadata": {},
   "outputs": [
    {
     "name": "stdout",
     "output_type": "stream",
     "text": [
      "hello\n"
     ]
    },
    {
     "data": {
      "text/plain": [
       "0"
      ]
     },
     "execution_count": 4,
     "metadata": {},
     "output_type": "execute_result"
    }
   ],
   "source": [
    "a = 1\n",
    "a = 'hello'\n",
    "print(a)\n",
    "\n",
    "import gc\n",
    "gc.collect()"
   ]
  },
  {
   "cell_type": "markdown",
   "id": "7a027e3c",
   "metadata": {},
   "source": [
    "# Python Data Types"
   ]
  },
  {
   "cell_type": "markdown",
   "id": "2482e54a",
   "metadata": {},
   "source": [
    "### Data types are the classification or categorization of data items. \n",
    "### It represents the kind of value that tells what operations can be performed on a particular data"
   ]
  },
  {
   "cell_type": "markdown",
   "id": "d612b99a",
   "metadata": {},
   "source": [
    "# The following are the standard or built-in data types in Python:\n",
    "\n",
    "### Numeric\n",
    "### Sequence Type\n",
    "### Boolean\n",
    "### Set\n",
    "### Dictionary"
   ]
  },
  {
   "cell_type": "code",
   "execution_count": 5,
   "id": "a451d2e4",
   "metadata": {
    "scrolled": true
   },
   "outputs": [
    {
     "name": "stdout",
     "output_type": "stream",
     "text": [
      " This is Capabl \n"
     ]
    }
   ],
   "source": [
    "# DataType Output: str\n",
    "x = \" This is Capabl \"\n",
    "print(x)\n",
    "# DataType Output: int\n",
    "x = 666 \n",
    " \n",
    "# DataType Output: float\n",
    "x = 65.5\n",
    " \n",
    "# DataType Output: complex\n",
    "x = 6j\n",
    "x = 'Rishi'\n",
    "y = 'Vaibhav'\n",
    "z = 'hello'\n",
    "\n",
    "# DataType Output: list\n",
    "x = [\"Elite\", \"Techno\", \"Groups\"]\n",
    " \n",
    "# DataType Output: tuple\n",
    "x = (\"This\", \"is\", \"Capabl\")\n",
    "x = ['name', 'rishi', 'vaibhav', 'age', 28]\n",
    "# DataType Output: range\n",
    "x = range(24)\n",
    " \n",
    "# DataType Output: dict: key - value pair\n",
    "x = {\"name\": \"Rishi\",\n",
    "     \"age\": 28, \n",
    "     \"degrees\": ['MSc', 'Btech']}\n",
    "\n",
    "# DataType Output: bool\n",
    "x = True"
   ]
  },
  {
   "cell_type": "markdown",
   "id": "2b115c19",
   "metadata": {},
   "source": [
    "# Python Arithmetic Operators"
   ]
  },
  {
   "cell_type": "markdown",
   "id": "f2e44d18",
   "metadata": {},
   "source": [
    "### There are following arithmetic operators in Python :\n",
    "\n",
    "### Addition\n",
    "### Subtraction\n",
    "### Multiplication\n",
    "### Division\n",
    "### Modulus\n",
    "### Floor division"
   ]
  },
  {
   "cell_type": "code",
   "execution_count": 3,
   "id": "ac632132",
   "metadata": {},
   "outputs": [
    {
     "name": "stdout",
     "output_type": "stream",
     "text": [
      "105\n"
     ]
    }
   ],
   "source": [
    "# Addition Operator\n",
    "no1 = '10'\n",
    "no2 = '5'\n",
    "  \n",
    "# using the addition operator\n",
    "result = no1 + '+' + no2\n",
    "result = no1 + no2\n",
    "print(result)"
   ]
  },
  {
   "cell_type": "code",
   "execution_count": 5,
   "id": "53bf63c7",
   "metadata": {},
   "outputs": [
    {
     "name": "stdout",
     "output_type": "stream",
     "text": [
      "5\n"
     ]
    }
   ],
   "source": [
    "# Subtraction Operator\n",
    "no1 = 10\n",
    "no2 = 5\n",
    "  \n",
    "# using the addition operator\n",
    "result = no1 - no2\n",
    "print(result)"
   ]
  },
  {
   "cell_type": "code",
   "execution_count": 8,
   "id": "bcd20ce1",
   "metadata": {},
   "outputs": [
    {
     "name": "stdout",
     "output_type": "stream",
     "text": [
      "50\n"
     ]
    }
   ],
   "source": [
    "# Multiplication Operator\n",
    "no1 = 10\n",
    "no2 = 5\n",
    "  \n",
    "# using the addition operator\n",
    "result = no1 * no2\n",
    "print(result)"
   ]
  },
  {
   "cell_type": "code",
   "execution_count": 10,
   "id": "c2613fa6",
   "metadata": {},
   "outputs": [
    {
     "name": "stdout",
     "output_type": "stream",
     "text": [
      "2.0\n"
     ]
    }
   ],
   "source": [
    "# Division Operator\n",
    "no1 = 10\n",
    "no2 = 5\n",
    "  \n",
    "# using the addition operator\n",
    "result = no1 / no2\n",
    "print(result)"
   ]
  },
  {
   "cell_type": "code",
   "execution_count": 11,
   "id": "6d7c6d2e",
   "metadata": {},
   "outputs": [
    {
     "name": "stdout",
     "output_type": "stream",
     "text": [
      "0\n"
     ]
    }
   ],
   "source": [
    "# Modulus Operator\n",
    "no1 = 10\n",
    "no2 = 5\n",
    "  \n",
    "# using the addition operator\n",
    "result = no1 % no2\n",
    "print(result)"
   ]
  },
  {
   "cell_type": "code",
   "execution_count": 12,
   "id": "b6caf9ed",
   "metadata": {},
   "outputs": [
    {
     "name": "stdout",
     "output_type": "stream",
     "text": [
      "2\n"
     ]
    }
   ],
   "source": [
    "# Floor division\n",
    "no1 = 10\n",
    "no2 = 5\n",
    "  \n",
    "# using the addition operator\n",
    "result = no1 // no2\n",
    "print(result)"
   ]
  },
  {
   "cell_type": "markdown",
   "id": "b87204b0",
   "metadata": {},
   "source": [
    "# Strings in Python"
   ]
  },
  {
   "cell_type": "markdown",
   "id": "09315f5f",
   "metadata": {},
   "source": [
    "### Strings in python are surrounded by either single quotation marks, or double quotation marks.\n",
    "\n",
    "### 'hello' is the same as \"hello\".\n",
    "\n",
    "### You can display a string literal with the print() function"
   ]
  },
  {
   "cell_type": "code",
   "execution_count": 15,
   "id": "fb30fcc5",
   "metadata": {},
   "outputs": [
    {
     "name": "stdout",
     "output_type": "stream",
     "text": [
      "Hello,I am Rishi\n",
      "Hello,I am Rishi\n"
     ]
    }
   ],
   "source": [
    "print(\"Hello,I am Rishi\")\n",
    "print('Hello,I am Rishi')\n",
    "'''\n",
    "dsafasdfsadfasdf\n",
    "'''\n",
    "# this is a comment"
   ]
  },
  {
   "cell_type": "markdown",
   "id": "eb5e8a92",
   "metadata": {},
   "source": [
    "# Multiline Strings"
   ]
  },
  {
   "cell_type": "markdown",
   "id": "93fc9c53",
   "metadata": {},
   "source": [
    "### You can use three double quotes"
   ]
  },
  {
   "cell_type": "code",
   "execution_count": 20,
   "id": "03585bd9",
   "metadata": {},
   "outputs": [
    {
     "name": "stdout",
     "output_type": "stream",
     "text": [
      " The quick brown fox \n",
      "jumps over the lazy dog\n",
      " The quick brown fox \n",
      "jumps over the lazy dog\n"
     ]
    }
   ],
   "source": [
    "# this is an example of str\n",
    "# another example\n",
    "text1 = \"\"\" The quick brown fox \n",
    "jumps over the lazy dog\"\"\"\n",
    "print(text1)\n",
    "text2 = ''' The quick brown fox \n",
    "jumps over the lazy dog'''\n",
    "print(text2)"
   ]
  },
  {
   "cell_type": "code",
   "execution_count": null,
   "id": "7c2165ae",
   "metadata": {},
   "outputs": [],
   "source": [
    "txt1 = 'Hi This is Rishi\"s laptop'"
   ]
  },
  {
   "cell_type": "markdown",
   "id": "9b65de49",
   "metadata": {},
   "source": [
    "# String Slicing"
   ]
  },
  {
   "cell_type": "markdown",
   "id": "2814d3f1",
   "metadata": {},
   "source": [
    "### Python slicing is about obtaining a sub-string from the given string by slicing it respectively from start to end. "
   ]
  },
  {
   "attachments": {
    "image-2.png": {
     "image/png": "[encoded data removed]"
    }
   },
   "cell_type": "markdown",
   "id": "de27ce26",
   "metadata": {},
   "source": [
    "![image-2.png](attachment:image-2.png)"
   ]
  },
  {
   "cell_type": "code",
   "execution_count": 10,
   "id": "a7607559",
   "metadata": {},
   "outputs": [
    {
     "name": "stdout",
     "output_type": "stream",
     "text": [
      "13\n",
      "are\n",
      " Capabl\n"
     ]
    }
   ],
   "source": [
    "string = 'We are Capabl'\n",
    "print(len(string))\n",
    "print(string[3:6])\n",
    " \n",
    "# Using indexing sequence\n",
    "print(string[6:])"
   ]
  },
  {
   "cell_type": "code",
   "execution_count": 13,
   "id": "9e274384",
   "metadata": {},
   "outputs": [
    {
     "name": "stdout",
     "output_type": "stream",
     "text": [
      "acegi\n"
     ]
    }
   ],
   "source": [
    "# String slicing\n",
    "string = 'WE ARE CAPABL'\n",
    "string = 'abcdefghij'\n",
    " \n",
    "# Using indexing sequence\n",
    "print(string[0:10:2]) # from : to-1 : steps"
   ]
  },
  {
   "cell_type": "markdown",
   "id": "7936785f",
   "metadata": {},
   "source": [
    "# EXTRA SHOTS\n",
    "\n",
    "## Using the slice() method"
   ]
  },
  {
   "cell_type": "code",
   "execution_count": 14,
   "id": "51b1b25d",
   "metadata": {},
   "outputs": [
    {
     "name": "stdout",
     "output_type": "stream",
     "text": [
      "slice(1, 5, 2)\n",
      "String slicing\n",
      "CAP\n",
      "AA\n",
      "LAA\n"
     ]
    }
   ],
   "source": [
    "string = 'CAPABL'\n",
    " \n",
    "# Using slice constructor\n",
    "s1 = slice(3)\n",
    "s2 = slice(1, 5, 2)\n",
    "s3 = slice(-1, -12, -2)\n",
    "print(s2)\n",
    "print(\"String slicing\")\n",
    "print(string[s1])\n",
    "print(string[s2])\n",
    "print(string[s3])"
   ]
  },
  {
   "cell_type": "markdown",
   "id": "f2ac987a",
   "metadata": {},
   "source": [
    "# Type Casting"
   ]
  },
  {
   "cell_type": "markdown",
   "id": "90a948cf",
   "metadata": {},
   "source": [
    "### Type Casting is the method to convert the variable data type into a certain data type in order to the operation required to be performed by users. "
   ]
  },
  {
   "cell_type": "markdown",
   "id": "fc1ed1c2",
   "metadata": {},
   "source": [
    "## Implicit Type Conversion"
   ]
  },
  {
   "cell_type": "markdown",
   "id": "62ca6242",
   "metadata": {},
   "source": [
    "### In this,  methods, Python converts data type into another data type automatically. In this process, users don’t have to involve in this process"
   ]
  },
  {
   "cell_type": "code",
   "execution_count": 15,
   "id": "dce31bc8",
   "metadata": {},
   "outputs": [
    {
     "name": "stdout",
     "output_type": "stream",
     "text": [
      "<class 'int'>\n",
      "<class 'float'>\n",
      "9.0\n",
      "<class 'float'>\n",
      "18.0\n",
      "<class 'float'>\n"
     ]
    }
   ],
   "source": [
    "a = 6\n",
    "print(type(a))\n",
    "\n",
    "b = 3.0\n",
    "print(type(b))\n",
    " \n",
    "# Python automatically converts\n",
    "# c to float as it is a float addition\n",
    "c = a + b\n",
    "print(c)\n",
    "print(type(c))\n",
    " \n",
    "# Python automatically converts\n",
    "# d to float as it is a float multiplication\n",
    "d = a * b\n",
    "print(d)\n",
    "print(type(d))"
   ]
  },
  {
   "cell_type": "markdown",
   "id": "64cc6443",
   "metadata": {},
   "source": [
    "## Explicit Type Casting"
   ]
  },
  {
   "cell_type": "markdown",
   "id": "c6f5497a",
   "metadata": {},
   "source": [
    "### In this method, Python need user involvement to convert the variable data type into certain data type in order to the operation required."
   ]
  },
  {
   "cell_type": "markdown",
   "id": "baf92399",
   "metadata": {},
   "source": [
    "### Mainly in type casting can be done with these data type function:\n",
    "\n",
    "### Int() : Int() function take float or string as an argument and return int type object.\n",
    "### float() : float() function take int or string as an argument and return float type object.\n",
    "### str() : str() function take float or int as an argument and return string type object."
   ]
  },
  {
   "cell_type": "code",
   "execution_count": 16,
   "id": "7d27b3f8",
   "metadata": {},
   "outputs": [
    {
     "name": "stdout",
     "output_type": "stream",
     "text": [
      "5.0\n",
      "<class 'float'>\n"
     ]
    }
   ],
   "source": [
    "a = 5\n",
    "# typecast to float\n",
    "n = float(a)\n",
    "print(n)\n",
    "print(type(n))"
   ]
  },
  {
   "cell_type": "code",
   "execution_count": 17,
   "id": "fbd6ccc2",
   "metadata": {},
   "outputs": [
    {
     "name": "stdout",
     "output_type": "stream",
     "text": [
      "5\n",
      "<class 'int'>\n"
     ]
    }
   ],
   "source": [
    "a = 5.9\n",
    "# typecast to int\n",
    "n = int(a)\n",
    "print(n)\n",
    "print(type(n))"
   ]
  },
  {
   "cell_type": "code",
   "execution_count": 4,
   "id": "84f7aa57",
   "metadata": {},
   "outputs": [
    {
     "name": "stdout",
     "output_type": "stream",
     "text": [
      "<class 'int'>\n",
      "5\n",
      "<class 'str'>\n"
     ]
    }
   ],
   "source": [
    "a = 5\n",
    "print(type(a))\n",
    "# typecast to str\n",
    "n = str(a)\n",
    "print(n)\n",
    "print(type(n))"
   ]
  },
  {
   "cell_type": "markdown",
   "id": "d8de5dce",
   "metadata": {},
   "source": [
    "# Upcoming Week"
   ]
  },
  {
   "cell_type": "markdown",
   "id": "66b72947",
   "metadata": {},
   "source": [
    "### Operations in Python\n",
    "### Conditions in Python\n",
    "### If-Else in Python\n",
    "### Nested If-Else in Python\n",
    "### For Loop in Python\n",
    "### Nested For Loop in Python\n",
    "### While Loop in Python"
   ]
  },
  {
   "cell_type": "markdown",
   "id": "d3288463",
   "metadata": {},
   "source": [
    "## Bring Your Own Code"
   ]
  },
  {
   "cell_type": "markdown",
   "id": "82ee6932",
   "metadata": {},
   "source": [
    "##### Write a program to print all characters from a string line by line.\n",
    "##### Write a program to check whether the number is even or odd."
   ]
  },
  {
   "cell_type": "code",
   "execution_count": null,
   "id": "bc761406",
   "metadata": {},
   "outputs": [],
   "source": [
    "'abcdef'\n",
    "a\n",
    "b\n",
    "c\n",
    "d\n",
    "e\n",
    "f"
   ]
  }
 ],
 "metadata": {
  "kernelspec": {
   "display_name": "Python 3 (ipykernel)",
   "language": "python",
   "name": "python3"
  },
  "language_info": {
   "codemirror_mode": {
    "name": "ipython",
    "version": 3
   },
   "file_extension": ".py",
   "mimetype": "text/x-python",
   "name": "python",
   "nbconvert_exporter": "python",
   "pygments_lexer": "ipython3",
   "version": "3.11.4"
  }
 },
 "nbformat": 4,
 "nbformat_minor": 5
}
