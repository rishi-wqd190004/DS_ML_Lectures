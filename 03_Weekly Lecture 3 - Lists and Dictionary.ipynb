{
 "cells": [
  {
   "attachments": {},
   "cell_type": "markdown",
   "id": "5fb71944",
   "metadata": {},
   "source": [
    "# Weekly Lecture 3 -  Lists and Dictionary in Python"
   ]
  },
  {
   "attachments": {},
   "cell_type": "markdown",
   "id": "a60c4028",
   "metadata": {},
   "source": [
    "### Last Lecture we saw:\n",
    " - Operators and loops in python\n",
    "\n",
    "### This lecture:\n",
    " - Lists and Dictionary\n",
    " - Python functions"
   ]
  },
  {
   "attachments": {},
   "cell_type": "markdown",
   "id": "7cc664bc",
   "metadata": {},
   "source": [
    "## Python Functions"
   ]
  },
  {
   "attachments": {},
   "cell_type": "markdown",
   "id": "b9519464",
   "metadata": {},
   "source": [
    "## Python Functions is a block of statements that return the specific task. The idea is to put some commonly or repeatedly done tasks together and make a function so that instead of writing the same code again and again for different inputs, we can do the function calls to reuse code contained in it over and over again.\n",
    "\n",
    "## Some Benefits of Using Functions\n",
    "\n",
    "## Increase Code Readability \n",
    "## Increase Code Reusability"
   ]
  },
  {
   "attachments": {
    "image.png": {
     "image/png": "[encoded data removed]"
    }
   },
   "cell_type": "markdown",
   "id": "50357665",
   "metadata": {},
   "source": [
    "![image.png](attachment:image.png)"
   ]
  },
  {
   "attachments": {},
   "cell_type": "markdown",
   "id": "0d0074da",
   "metadata": {},
   "source": [
    "## Types of Functions in Python\n",
    "## There are mainly two types of functions in Python."
   ]
  },
  {
   "attachments": {},
   "cell_type": "markdown",
   "id": "6b605fb8",
   "metadata": {},
   "source": [
    "## Built-in library function: These are Standard functions in Python that are available to use.\n",
    "## User-defined function: We can create our own functions based on our requirements."
   ]
  },
  {
   "attachments": {},
   "cell_type": "markdown",
   "id": "5bc3842c",
   "metadata": {},
   "source": [
    "## Creating a Function in Python\n",
    "## We can create a user-defined function in Python, using the def keyword. We can add any type of functionalities and properties to it as we require."
   ]
  },
  {
   "cell_type": "code",
   "execution_count": 2,
   "id": "7ac7d32f",
   "metadata": {},
   "outputs": [],
   "source": [
    "# A simple Python function\n",
    " \n",
    "def fun():\n",
    "    print(\"Welcome to Weekly lecture 3\")"
   ]
  },
  {
   "cell_type": "code",
   "execution_count": 4,
   "id": "bd942ae9",
   "metadata": {},
   "outputs": [
    {
     "data": {
      "text/plain": [
       "'here is another answer'"
      ]
     },
     "execution_count": 4,
     "metadata": {},
     "output_type": "execute_result"
    }
   ],
   "source": [
    "## Calling a  Python Function\n",
    "## After creating a function in Python we can call it by using the name of the function followed by parenthesis containing parameters of that particular function.\n",
    "\n",
    "\n",
    "# A simple Python function\n",
    "def fun():\n",
    "    a = 2\n",
    "    c = \"Welcome to Weekly lecture 3\"\n",
    "    return 'here is another answer'\n",
    " \n",
    " \n",
    "# Driver code to call a function\n",
    "fun()"
   ]
  },
  {
   "attachments": {},
   "cell_type": "markdown",
   "id": "757f1599",
   "metadata": {},
   "source": [
    "## Lambda functions\n",
    "    - One liner functions\n",
    "    - Syntax: \n",
    "    \n",
    "`lambda arguments : expression`\n",
    "\n",
    "    "
   ]
  },
  {
   "cell_type": "code",
   "execution_count": 1,
   "id": "1cd22c92",
   "metadata": {},
   "outputs": [
    {
     "name": "stdout",
     "output_type": "stream",
     "text": [
      "15\n"
     ]
    }
   ],
   "source": [
    "x = lambda a : a + 10\n",
    "print(x(5))"
   ]
  },
  {
   "cell_type": "code",
   "execution_count": 3,
   "id": "ef87766f",
   "metadata": {},
   "outputs": [
    {
     "data": {
      "text/plain": [
       "30"
      ]
     },
     "execution_count": 3,
     "metadata": {},
     "output_type": "execute_result"
    }
   ],
   "source": [
    "x = lambda a, b,c : a * b *c\n",
    "(x(5, 6,1))"
   ]
  },
  {
   "attachments": {},
   "cell_type": "markdown",
   "id": "6a14858f",
   "metadata": {},
   "source": [
    "### Lambda used as anonymous function inside a function"
   ]
  },
  {
   "cell_type": "code",
   "execution_count": 3,
   "id": "77422c37",
   "metadata": {},
   "outputs": [
    {
     "name": "stdout",
     "output_type": "stream",
     "text": [
      "22\n"
     ]
    }
   ],
   "source": [
    "def myfunc(n):\n",
    "  return lambda a : a * n\n",
    "\n",
    "mydoubler = myfunc(2)\n",
    "\n",
    "print(mydoubler(11))"
   ]
  },
  {
   "attachments": {},
   "cell_type": "markdown",
   "id": "d9bc7542",
   "metadata": {},
   "source": [
    "# Python Function Arguments"
   ]
  },
  {
   "attachments": {},
   "cell_type": "markdown",
   "id": "e18ab869",
   "metadata": {},
   "source": [
    "## Arguments are the values passed inside the parenthesis of the function. A function can have any number of arguments separated by a comma.\n",
    "\n",
    "## In this example, we will create a simple function in Python to check whether the number passed as an argument to the function is even or odd."
   ]
  },
  {
   "cell_type": "code",
   "execution_count": 12,
   "id": "e980e5d1",
   "metadata": {},
   "outputs": [
    {
     "name": "stdout",
     "output_type": "stream",
     "text": [
      "even\n",
      "odd\n"
     ]
    }
   ],
   "source": [
    "# A simple Python function to check\n",
    "# whether x is even or odd\n",
    "def evenOdd(x):\n",
    "    if (x % 2 == 0):\n",
    "        print(\"even\")\n",
    "    else:\n",
    "        print(\"odd\")\n",
    " \n",
    " \n",
    "# Driver code to call the function\n",
    "evenOdd(x=2)\n",
    "evenOdd(3)"
   ]
  },
  {
   "attachments": {},
   "cell_type": "markdown",
   "id": "8302a0c1",
   "metadata": {},
   "source": [
    "# Keyword Arguments\n",
    "## The idea is to allow the caller to specify the argument name with values so that the caller does not need to remember the order of parameters."
   ]
  },
  {
   "cell_type": "code",
   "execution_count": 13,
   "id": "fe4a733f",
   "metadata": {},
   "outputs": [
    {
     "data": {
      "text/plain": [
       "('rishi', 'nigam')"
      ]
     },
     "execution_count": 13,
     "metadata": {},
     "output_type": "execute_result"
    }
   ],
   "source": [
    "# Python program to demonstrate Keyword Arguments\n",
    "def student(firstname, lastname):\n",
    "    firstname = firstname.lower()\n",
    "    lastname = lastname.lower()\n",
    "    return (firstname, lastname)\n",
    " \n",
    " \n",
    "# Keyword arguments\n",
    "student(firstname='Rishi', lastname='Nigam')\n",
    "student(lastname='Nigam', firstname='Rishi')"
   ]
  },
  {
   "attachments": {},
   "cell_type": "markdown",
   "id": "3bb1b1c5",
   "metadata": {},
   "source": [
    "# Positional Arguments\n",
    "## We used the Position argument during the function call so that the first argument (or value) is assigned to name and the second argument (or value) is assigned to age. By changing the position, or if you forget the order of the positions, the values can be used in the wrong places, as shown in the Case-2 example below, where 27 is assigned to the name and Suraj is assigned to the age."
   ]
  },
  {
   "cell_type": "code",
   "execution_count": 7,
   "id": "1f8176c7",
   "metadata": {},
   "outputs": [
    {
     "name": "stdout",
     "output_type": "stream",
     "text": [
      "Case-1:\n",
      "Hi, I am Suyra\n",
      "My age is  33\n",
      "\n",
      "Case-2:\n",
      "Hi, I am 33\n",
      "My age is  Surya\n"
     ]
    }
   ],
   "source": [
    "def nameAge(name, age):\n",
    "    print(\"Hi, I am\", name)\n",
    "    print(\"My age is \", age)\n",
    " \n",
    " \n",
    "# You will get correct output because\n",
    "# argument is given in order\n",
    "print(\"Case-1:\")\n",
    "nameAge(\"Suyra\", 33)\n",
    "# You will get incorrect output because\n",
    "# argument is not in order\n",
    "print(\"\\nCase-2:\")\n",
    "nameAge(33, \"Surya\")"
   ]
  },
  {
   "attachments": {},
   "cell_type": "markdown",
   "id": "f1d5baa8",
   "metadata": {},
   "source": [
    "# Arbitrary Keyword  Arguments\n",
    "## In Python Arbitrary Keyword Arguments, *args, and **kwargs can pass a variable number of arguments to a function using special symbols. There are two special symbols:\n",
    "\n",
    "## *args in Python (Non-Keyword Arguments)\n",
    "## **kwargs in Python (Keyword Arguments)\n",
    "## Example 1: Variable length non-keywords argument"
   ]
  },
  {
   "cell_type": "code",
   "execution_count": 7,
   "id": "48c12c1d",
   "metadata": {},
   "outputs": [
    {
     "name": "stdout",
     "output_type": "stream",
     "text": [
      "hi, Hello\n",
      "hi, Welcome\n",
      "hi, to\n",
      "hi, Weekly Lecture\n",
      "hi, welcome\n",
      "hi, yes today is sunday\n"
     ]
    }
   ],
   "source": [
    "# Python program to illustrate\n",
    "# *args for variable number of arguments\n",
    "def myFun(*argv):\n",
    "    for arg in argv:\n",
    "        g =  'hi, ' + arg \n",
    "        print(g)\n",
    " \n",
    " \n",
    "myFun('Hello', 'Welcome', 'to', 'Weekly Lecture','welcome', 'yes today is sunday')"
   ]
  },
  {
   "attachments": {},
   "cell_type": "markdown",
   "id": "1fef76ce",
   "metadata": {},
   "source": [
    "## Example 2: Variable length keyword arguments"
   ]
  },
  {
   "cell_type": "code",
   "execution_count": 14,
   "id": "b37e3e7e",
   "metadata": {},
   "outputs": [
    {
     "name": "stdout",
     "output_type": "stream",
     "text": [
      "first == Welcome,\n",
      "mid == to\n",
      "last == Weekly Lecture\n"
     ]
    }
   ],
   "source": [
    "\n",
    "# Python program to illustrate\n",
    "# *kwargs for variable number of keyword arguments\n",
    " \n",
    "def myFun(**kwargs):\n",
    "    for key, value in kwargs.items():\n",
    "        print(\"%s == %s\" % (key, value))\n",
    " \n",
    " \n",
    "# Driver code\n",
    "myFun(first='Welcome,', mid='to', last='Weekly Lecture')"
   ]
  },
  {
   "attachments": {},
   "cell_type": "markdown",
   "id": "e2e2ee28",
   "metadata": {},
   "source": [
    "# Return Statement in Python Function\n",
    "## The function return statement is used to exit from a function and go back to the function caller and return the specified value or data item to the caller. The syntax for the return statement is:"
   ]
  },
  {
   "attachments": {},
   "cell_type": "markdown",
   "id": "6b3436a2",
   "metadata": {},
   "source": [
    "## Syntax : return [expression_list]"
   ]
  },
  {
   "attachments": {},
   "cell_type": "markdown",
   "id": "99929110",
   "metadata": {},
   "source": [
    "## The return statement can consist of a variable, an expression, or a constant which is returned at the end of the function execution. If none of the above is present with the return statement a None object is returned.\n",
    "\n",
    "## Example: Python Function Return Statement"
   ]
  },
  {
   "cell_type": "code",
   "execution_count": 8,
   "id": "8209d61d",
   "metadata": {},
   "outputs": [
    {
     "name": "stdout",
     "output_type": "stream",
     "text": [
      "93\n"
     ]
    }
   ],
   "source": [
    "def multi(a,b):\n",
    "    return float(a * b)\n",
    "# a = 2 * 3\n",
    "a = multi(9,10)\n",
    "d = a + 3\n",
    "print(d)"
   ]
  },
  {
   "cell_type": "code",
   "execution_count": 12,
   "id": "4d5cb5ae",
   "metadata": {},
   "outputs": [
    {
     "name": "stdout",
     "output_type": "stream",
     "text": [
      "4\n",
      "16\n"
     ]
    }
   ],
   "source": [
    "def square_value(num):\n",
    "    \"\"\"This function returns the square\n",
    "    value of the entered number\"\"\"\n",
    "    return num**2\n",
    " \n",
    "print(square_value(2))\n",
    "print(square_value(-4))"
   ]
  },
  {
   "attachments": {},
   "cell_type": "markdown",
   "id": "98dead24",
   "metadata": {},
   "source": [
    "# Python Lists"
   ]
  },
  {
   "attachments": {},
   "cell_type": "markdown",
   "id": "3ecc8771",
   "metadata": {},
   "source": [
    "## Python Lists are just like dynamically sized arrays.\n",
    "## In simple language, a list is a collection of things, enclosed in [ ] and separated by commas. \n",
    "\n",
    "## The list is a sequence data type which is used to store the collection of data. Tuples and String are other types of sequence data types."
   ]
  },
  {
   "cell_type": "code",
   "execution_count": 4,
   "id": "784aaf88",
   "metadata": {},
   "outputs": [
    {
     "name": "stdout",
     "output_type": "stream",
     "text": [
      "['Welcome', 'to', 'Weekly Lecture', 2]\n",
      "<class 'list'>\n"
     ]
    }
   ],
   "source": [
    "Var = [\"Welcome\", \"to\", \"Weekly Lecture\",2] #()\n",
    "print(Var)\n",
    "print(type(Var))"
   ]
  },
  {
   "attachments": {},
   "cell_type": "markdown",
   "id": "21856359",
   "metadata": {},
   "source": [
    "# Accessing elements from the List\n",
    "## In order to access the list items refer to the index number. Use the index operator [ ] to access an item in a list. The index must be an integer. Nested lists are accessed using nested indexing. \n",
    "\n",
    "## Example 1: Accessing elements from list"
   ]
  },
  {
   "cell_type": "code",
   "execution_count": 10,
   "id": "fcefde40",
   "metadata": {},
   "outputs": [
    {
     "name": "stdout",
     "output_type": "stream",
     "text": [
      "Accessing a element from the list\n",
      "Welcome\n",
      "Weekly Lecture\n"
     ]
    }
   ],
   "source": [
    "\n",
    "# Python program to demonstrate\n",
    "# accessing of element from list\n",
    "  \n",
    "# Creating a List with\n",
    "# the use of multiple values\n",
    "List = [\"Welcome\", \"to\", \"Weekly Lecture\"]\n",
    "  \n",
    "# accessing a element from the\n",
    "# list using index number\n",
    "print(\"Accessing a element from the list\")\n",
    "print(List[0])\n",
    "print(List[-1])"
   ]
  },
  {
   "attachments": {},
   "cell_type": "markdown",
   "id": "11ac9089",
   "metadata": {},
   "source": [
    "# Getting the size of Python list\n",
    "## Python len() is used to get the length of the list."
   ]
  },
  {
   "cell_type": "code",
   "execution_count": 5,
   "id": "b5e4a97a",
   "metadata": {},
   "outputs": [
    {
     "name": "stdout",
     "output_type": "stream",
     "text": [
      "0\n",
      "3\n",
      "<class 'tuple'>\n"
     ]
    }
   ],
   "source": [
    "# Creating a List\n",
    "List1 = []\n",
    "print(len(List1))\n",
    "  \n",
    "# Creating a List of numbers\n",
    "List2 = [10, 20, 14]\n",
    "list2_tp = (10,20,40)\n",
    "print(len(List2))\n",
    "print(type(list2_tp))"
   ]
  },
  {
   "attachments": {},
   "cell_type": "markdown",
   "id": "c2d9a502",
   "metadata": {},
   "source": [
    "# Adding Elements to a Python List\n",
    "## Method 1: Using append() method\n",
    "## Elements can be added to the List by using the built-in append() function. Only one element at a time can be added to the list by using the append() method, for the addition of multiple elements with the append() method, loops are used. Tuples can also be added to the list with the use of the append method because tuples are immutable. Unlike Sets, Lists can also be added to the existing list with the use of the append() method.\n",
    "\n",
    "\n",
    "# Python program to demonstrate"
   ]
  },
  {
   "cell_type": "code",
   "execution_count": 3,
   "id": "87926dec",
   "metadata": {},
   "outputs": [
    {
     "name": "stdout",
     "output_type": "stream",
     "text": [
      "Initial blank List: \n",
      "[]\n",
      "\n",
      "List after Addition of Three elements: \n",
      "[1, 2, 4]\n",
      "\n",
      "List after Addition of elements from 1-3: \n",
      "[1, 2, 4, 1, 2, 3]\n",
      "\n",
      "List after Addition of a Tuple: \n",
      "[1, 2, 4, 1, 2, 3, (5, 6)]\n",
      "\n",
      "List after Addition of a List: \n",
      "[1, 2, 4, 1, 2, 3, (5, 6), ['Weekly', 'Lecture']]\n"
     ]
    }
   ],
   "source": [
    "# Python program to demonstrate\n",
    "# Addition of elements in a List\n",
    "  \n",
    "# Creating a List\n",
    "List = []\n",
    "print(\"Initial blank List: \")\n",
    "print(List)\n",
    "  \n",
    "# Addition of Elements\n",
    "# in the List\n",
    "List.append(1)\n",
    "List.append(2)\n",
    "List.append(4)\n",
    "print(\"\\nList after Addition of Three elements: \")\n",
    "print(List)\n",
    "  \n",
    "# Adding elements to the List\n",
    "# using Iterator\n",
    "for i in range(1, 4):\n",
    "    List.append(i)\n",
    "print(\"\\nList after Addition of elements from 1-3: \")\n",
    "print(List)\n",
    "  \n",
    "# Adding Tuples to the List\n",
    "List.append((5, 6))\n",
    "print(\"\\nList after Addition of a Tuple: \")\n",
    "print(List)\n",
    "  \n",
    "# Addition of List to a List\n",
    "List2 = ['Weekly', 'Lecture']\n",
    "List.append(List2)\n",
    "print(\"\\nList after Addition of a List: \")\n",
    "print(List)"
   ]
  },
  {
   "attachments": {},
   "cell_type": "markdown",
   "id": "be3ba6f3",
   "metadata": {},
   "source": [
    "# Method 2: Using insert() method\n",
    "## append() method only works for the addition of elements at the end of the List, for the addition of elements at the desired position, insert() method is used. Unlike append() which takes only one argument, the insert() method requires two arguments(position, value)."
   ]
  },
  {
   "cell_type": "code",
   "execution_count": 4,
   "id": "88905a39",
   "metadata": {},
   "outputs": [
    {
     "name": "stdout",
     "output_type": "stream",
     "text": [
      "Initial List: \n",
      "[1, 2, 3, 4]\n",
      "\n",
      "List after performing Insert Operation: \n",
      "['Capabl', 1, 2, 3, 12, 4]\n"
     ]
    }
   ],
   "source": [
    "\n",
    "# Python program to demonstrate \n",
    "# Addition of elements in a List\n",
    "   \n",
    "# Creating a List\n",
    "List = [1,2,3,4]\n",
    "print(\"Initial List: \")\n",
    "print(List)\n",
    "  \n",
    "# Addition of Element at \n",
    "# specific Position\n",
    "# (using Insert Method)\n",
    "List.insert(3, 12)\n",
    "List.insert(0, 'Capabl')\n",
    "print(\"\\nList after performing Insert Operation: \")\n",
    "print(List)"
   ]
  },
  {
   "attachments": {},
   "cell_type": "markdown",
   "id": "ae746264",
   "metadata": {},
   "source": [
    "# Reversing a List\n",
    "## A list can be reversed by using the reverse() method in Python."
   ]
  },
  {
   "cell_type": "code",
   "execution_count": 3,
   "id": "c5b0b04c",
   "metadata": {},
   "outputs": [
    {
     "name": "stdout",
     "output_type": "stream",
     "text": [
      "[1, 2, 3, 4, 5, 'Capabl', 'Python']\n",
      "['Python', 'Capabl', 5, 4, 3, 2, 1]\n"
     ]
    }
   ],
   "source": [
    "\n",
    "# Reversing a list\n",
    "mylist = [1, 2, 3, 4, 5, 'Capabl', 'Python']\n",
    "mylist.reverse()\n",
    "mylist_rev = mylist[::-1]\n",
    "print(mylist_rev)\n",
    "print(mylist)"
   ]
  },
  {
   "attachments": {},
   "cell_type": "markdown",
   "id": "c3b987bb",
   "metadata": {},
   "source": [
    "### given a list print in reverse --> don't use the reverse method but use slicing\n",
    "### read about lambda"
   ]
  },
  {
   "attachments": {},
   "cell_type": "markdown",
   "id": "7e18bfe6",
   "metadata": {},
   "source": [
    "# Removing Elements from the List\n",
    "## Method 1: Using remove() method\n",
    "### Elements can be removed from the List by using the built-in remove() function but an Error arises if the element doesn’t exist in the list. Remove() method only removes one element at a time, to remove a range of elements, the iterator is used. The remove() method removes the specified item."
   ]
  },
  {
   "cell_type": "code",
   "execution_count": 6,
   "id": "b177c3d7",
   "metadata": {},
   "outputs": [
    {
     "name": "stdout",
     "output_type": "stream",
     "text": [
      "Initial List: \n",
      "[1, 2, 3, 4, 5, 6, 7, 8, 9, 10, 11, 12]\n",
      "\n",
      "List after Removal of two elements: \n",
      "[1, 2, 3, 4, 7, 8, 9, 10, 11, 12]\n"
     ]
    }
   ],
   "source": [
    "# Python program to demonstrate\n",
    "# Removal of elements in a List\n",
    "  \n",
    "# Creating a List\n",
    "List = [1, 2, 3, 4, 5, 6,\n",
    "        7, 8, 9, 10, 11, 12]\n",
    "print(\"Initial List: \")\n",
    "print(List)\n",
    "  \n",
    "# Removing elements from List\n",
    "# using Remove() method\n",
    "List.remove(5)\n",
    "List.remove(6)\n",
    "print(\"\\nList after Removal of two elements: \")\n",
    "print(List)"
   ]
  },
  {
   "cell_type": "code",
   "execution_count": null,
   "id": "8f0cc5de",
   "metadata": {},
   "outputs": [],
   "source": [
    "[['8-JUN-23', 'Pass'], ['7-JUN-23', 'Fail']]\n",
    "\n",
    "8-JUN-23    PASS\n",
    "7-JUN-23    FAIL"
   ]
  },
  {
   "attachments": {},
   "cell_type": "markdown",
   "id": "583e966e",
   "metadata": {},
   "source": [
    "# Method 2: Using pop() method\n",
    "## pop() function can also be used to remove and return an element from the list, but by default it removes only the last element of the list, to remove an element from a specific position of the List, the index of the element is passed as an argument to the pop() method."
   ]
  },
  {
   "cell_type": "code",
   "execution_count": 7,
   "id": "c8a4f29f",
   "metadata": {},
   "outputs": [
    {
     "name": "stdout",
     "output_type": "stream",
     "text": [
      "\n",
      "List after popping an element: \n",
      "[1, 2, 3, 4]\n",
      "\n",
      "List after popping a specific element: \n",
      "[1, 2, 4]\n"
     ]
    }
   ],
   "source": [
    "List = [1, 2, 3, 4, 5]\n",
    "  \n",
    "# Removing element from the\n",
    "# Set using the pop() method\n",
    "List.pop()\n",
    "print(\"\\nList after popping an element: \")\n",
    "print(List)\n",
    "  \n",
    "# Removing element at a\n",
    "# specific location from the\n",
    "# Set using the pop() method\n",
    "List.pop(2)\n",
    "print(\"\\nList after popping a specific element: \")\n",
    "print(List)"
   ]
  },
  {
   "attachments": {},
   "cell_type": "markdown",
   "id": "d6abd76c",
   "metadata": {},
   "source": [
    "# Slicing of a List\n",
    "## We can get substrings and sublists using a slice. In Python List, there are multiple ways to print the whole list with all the elements, but to print a specific range of elements from the list, we use the Slice operation. \n",
    "\n",
    "# Slice operation is performed on Lists with the use of a colon(:). "
   ]
  },
  {
   "cell_type": "code",
   "execution_count": 12,
   "id": "d4225d10",
   "metadata": {},
   "outputs": [
    {
     "name": "stdout",
     "output_type": "stream",
     "text": [
      "Initial List: \n",
      "['W', 'E', 'l', 'C', 'O', 'M', 'E', 'C', 'A', 'P', 'A', 'B', 'L']\n",
      "\n",
      "Slicing elements in a range 3-8: \n",
      "['C', 'O', 'M', 'E', 'C']\n",
      "\n",
      "Elements sliced from 5th element till the end: \n",
      "['M', 'E', 'C', 'A', 'P', 'A', 'B', 'L']\n",
      "\n",
      "Printing all elements using slice operation: \n",
      "['W', 'E', 'l', 'C', 'O', 'M', 'E', 'C', 'A', 'P', 'A', 'B', 'L']\n"
     ]
    }
   ],
   "source": [
    "\n",
    "# Python program to demonstrate\n",
    "# Removal of elements in a List\n",
    "  \n",
    "# Creating a List\n",
    "List = ['W', 'E', 'l', 'C', 'O', 'M',\n",
    "        'E', 'C', 'A', 'P', 'A', 'B', 'L']\n",
    "print(\"Initial List: \")\n",
    "print(List)\n",
    "  \n",
    "# Print elements of a range\n",
    "# using Slice operation\n",
    "Sliced_List = List[3:8] # from:to-1\n",
    "print(\"\\nSlicing elements in a range 3-8: \")\n",
    "print(Sliced_List)\n",
    "  \n",
    "# Print elements from a\n",
    "# pre-defined point to end\n",
    "Sliced_List = List[5:]\n",
    "print(\"\\nElements sliced from 5th \"\n",
    "      \"element till the end: \")\n",
    "print(Sliced_List)\n",
    "  \n",
    "# Printing elements from\n",
    "# beginning till end\n",
    "Sliced_List = List[:]\n",
    "\n",
    "print(\"\\nPrinting all elements using slice operation: \")\n",
    "print(Sliced_List)"
   ]
  },
  {
   "attachments": {},
   "cell_type": "markdown",
   "id": "2e575898",
   "metadata": {},
   "source": [
    "# List Comprehension\n",
    "## Python List comprehensions are used for creating new lists from other iterables like tuples, strings, arrays, lists, etc. A list comprehension consists of brackets containing the expression, which is executed for each element along with the for loop to iterate over each element. \n",
    "\n",
    "# Syntax:\n",
    "\n",
    "## newList = [ expression(element) for element in oldList if condition ]"
   ]
  },
  {
   "cell_type": "code",
   "execution_count": 10,
   "id": "5e1eae1f",
   "metadata": {},
   "outputs": [
    {
     "name": "stdout",
     "output_type": "stream",
     "text": [
      "[1, 9, 25, 49, 81]\n"
     ]
    }
   ],
   "source": [
    "# Python program to demonstrate list\n",
    "# comprehension in Python\n",
    "  \n",
    "# below list contains square of all\n",
    "# odd numbers from range 1 to 10\n",
    "odd_square = [x ** 2 for x in range(1, 11) if x % 2 == 1]\n",
    "print(odd_square)"
   ]
  },
  {
   "cell_type": "code",
   "execution_count": 11,
   "id": "4060e1fc",
   "metadata": {},
   "outputs": [
    {
     "name": "stdout",
     "output_type": "stream",
     "text": [
      "[1, 9, 25, 49, 81]\n"
     ]
    }
   ],
   "source": [
    "# for understanding, above generation is same as,\n",
    "odd_square = []\n",
    "  \n",
    "for x in range(1, 11):\n",
    "    if x % 2 == 1:\n",
    "        odd_square.append(x**2)\n",
    "print(odd_square)"
   ]
  },
  {
   "attachments": {},
   "cell_type": "markdown",
   "id": "3df07366",
   "metadata": {},
   "source": [
    "# Multi-dimensional lists in Python"
   ]
  },
  {
   "attachments": {},
   "cell_type": "markdown",
   "id": "267a55c1",
   "metadata": {},
   "source": [
    "## There can be more than one additional dimension to lists in Python. Keeping in mind that a list can hold other lists, that basic principle can be applied over and over. Multi-dimensional lists are the lists within lists. Usually, a dictionary will be the better choice rather than a multi-dimensional list in Python."
   ]
  },
  {
   "cell_type": "code",
   "execution_count": 4,
   "id": "8e682ec5",
   "metadata": {},
   "outputs": [
    {
     "name": "stdout",
     "output_type": "stream",
     "text": [
      "[[2, 4, 6, 8, 10], [3, 6, 9, 12, 15], [4, 8, 12, 16, 20]]\n",
      "9\n",
      "12\n"
     ]
    }
   ],
   "source": [
    "# Python program to demonstrate printing\n",
    "# of complete multidimensional list\n",
    "\n",
    "a = [[2, 4, 6, 8, 10], [3, 6, 9, 12, 15], [4, 8, 12, 16, 20]]\n",
    "print(a)\n",
    "print(a[1][2])\n",
    "print(a[1][3])"
   ]
  },
  {
   "cell_type": "code",
   "execution_count": 13,
   "id": "71fc24e2",
   "metadata": {},
   "outputs": [
    {
     "name": "stdout",
     "output_type": "stream",
     "text": [
      "2 4 6 8 \n",
      "1 3 5 7 \n",
      "8 6 4 2 \n",
      "7 5 3 1 \n"
     ]
    }
   ],
   "source": [
    "# Python program to demonstrate that we\n",
    "# can access multidimensional list using\n",
    "# square brackets\n",
    "a = [ [2, 4, 6, 8 ], \n",
    "    [ 1, 3, 5, 7 ], \n",
    "    [ 8, 6, 4, 2 ], \n",
    "    [ 7, 5, 3, 1 ] ] \n",
    "          \n",
    "for i in range(len(a)) : \n",
    "    for j in range(len(a[i])) : \n",
    "        print(a[i][j], end=\" \")\n",
    "    print()"
   ]
  },
  {
   "attachments": {},
   "cell_type": "markdown",
   "id": "7bf11044",
   "metadata": {},
   "source": [
    "# Python Dictionary"
   ]
  },
  {
   "attachments": {},
   "cell_type": "markdown",
   "id": "272e126f",
   "metadata": {},
   "source": [
    "## Dictionary in Python is a collection of keys values, used to store data values like a map, which, unlike other data types which hold only a single value as an element.\n",
    "\n",
    "## Example of Dictionary in Python \n",
    "## Dictionary holds key:value pair. Key-Value is provided in the dictionary to make it more optimized. "
   ]
  },
  {
   "cell_type": "code",
   "execution_count": null,
   "id": "a4c49709",
   "metadata": {},
   "outputs": [],
   "source": [
    "{\n",
    "    'key': [[2,3,4],[4,5]]\n",
    "}"
   ]
  },
  {
   "cell_type": "code",
   "execution_count": 16,
   "id": "c0e881b2",
   "metadata": {},
   "outputs": [
    {
     "name": "stdout",
     "output_type": "stream",
     "text": [
      "dict_items([(1, 'We'), (2, 'are'), (3, 'CAPABL')])\n",
      "<class 'dict'>\n"
     ]
    }
   ],
   "source": [
    "Dict = {1: 'We', 2: 'are', 3: 'CAPABL'}\n",
    "dict_op = {\n",
    "    '8-JUN-23': 'PASS',\n",
    "    '7-JUN-23': 'Fail'\n",
    "}\n",
    "print(Dict.items())\n",
    "print(type(Dict))"
   ]
  },
  {
   "attachments": {},
   "cell_type": "markdown",
   "id": "0c2381cf",
   "metadata": {},
   "source": [
    "# Creating a Dictionary\n",
    "## In Python, a dictionary can be created by placing a sequence of elements within curly {} braces, separated by ‘comma’. Dictionary holds pairs of values, one being the Key and the other corresponding pair element being its Key:value. Values in a dictionary can be of any data type and can be duplicated, whereas keys can’t be repeated and must be immutable. \n",
    "\n",
    "## Note – Dictionary keys are case sensitive, the same name but different cases of Key will be treated distinctly. "
   ]
  },
  {
   "cell_type": "code",
   "execution_count": 15,
   "id": "d5a5ea4b",
   "metadata": {},
   "outputs": [
    {
     "name": "stdout",
     "output_type": "stream",
     "text": [
      "\n",
      "Dictionary with the use of Integer Keys: \n",
      "{1: 'We', 2: 'are', 3: 'CAPABL'}\n",
      "\n",
      "Dictionary with the use of Mixed Keys: \n",
      "{'Name': 'Capabl', 1: [1, 2, 3, 4]}\n"
     ]
    }
   ],
   "source": [
    "# Creating a Dictionary\n",
    "# with Integer Keys\n",
    "Dict = {1: 'We', 2: 'are', 3: 'CAPABL'}\n",
    "print(\"\\nDictionary with the use of Integer Keys: \")\n",
    "print(Dict)\n",
    " \n",
    "# Creating a Dictionary\n",
    "# with Mixed keys\n",
    "Dict = {'Name': 'Capabl', 1: [1, 2, 3, 4]}\n",
    "print(\"\\nDictionary with the use of Mixed Keys: \")\n",
    "print(Dict)"
   ]
  },
  {
   "cell_type": "code",
   "execution_count": null,
   "id": "9c0f43e0",
   "metadata": {},
   "outputs": [],
   "source": [
    "list_people = {\n",
    "    'name': 'Rishi',\n",
    "    'age': 28,\n",
    "    'place': ['Home', 'office']\n",
    "}"
   ]
  },
  {
   "attachments": {},
   "cell_type": "markdown",
   "id": "9dd46099",
   "metadata": {},
   "source": [
    "# Accessing elements of a Dictionary\n",
    "## In order to access the items of a dictionary refer to its key name. Key can be used inside square brackets. "
   ]
  },
  {
   "cell_type": "code",
   "execution_count": 5,
   "id": "b67321cb",
   "metadata": {},
   "outputs": [
    {
     "name": "stdout",
     "output_type": "stream",
     "text": [
      "Accessing a element using key:\n",
      "CAPABL\n",
      "Accessing a element using key:\n",
      "hello\n"
     ]
    },
    {
     "ename": "KeyError",
     "evalue": "5",
     "output_type": "error",
     "traceback": [
      "\u001b[0;31m---------------------------------------------------------------------------\u001b[0m",
      "\u001b[0;31mKeyError\u001b[0m                                  Traceback (most recent call last)",
      "Cell \u001b[0;32mIn[5], line 15\u001b[0m\n\u001b[1;32m     12\u001b[0m \u001b[39mprint\u001b[39m(\u001b[39m\"\u001b[39m\u001b[39mAccessing a element using key:\u001b[39m\u001b[39m\"\u001b[39m)\n\u001b[1;32m     13\u001b[0m \u001b[39mprint\u001b[39m(Dict[\u001b[39m-\u001b[39m\u001b[39m1\u001b[39m])\n\u001b[0;32m---> 15\u001b[0m \u001b[39mprint\u001b[39m(Dict[\u001b[39m5\u001b[39;49m])\n",
      "\u001b[0;31mKeyError\u001b[0m: 5"
     ]
    }
   ],
   "source": [
    "# Python program to demonstrate\n",
    "# accessing a element from a Dictionary\n",
    " \n",
    "# Creating a Dictionary\n",
    "Dict = {-1: 'hello', 1: 'We', 2: 'are', 3: 'CAPABL'}\n",
    "\n",
    "# accessing a element using key\n",
    "print(\"Accessing a element using key:\")\n",
    "print(Dict[3])\n",
    " \n",
    "# accessing a element using key\n",
    "print(\"Accessing a element using key:\")\n",
    "print(Dict[-1])\n",
    "\n",
    "print(Dict[5]) # pick up the keys which are in the dictionary"
   ]
  },
  {
   "attachments": {},
   "cell_type": "markdown",
   "id": "fce6fbb8",
   "metadata": {},
   "source": [
    "## There is also a method called get() that will also help in accessing the element from a dictionary.This method accepts key as argument and returns the value."
   ]
  },
  {
   "cell_type": "code",
   "execution_count": 19,
   "id": "b2ae39a3",
   "metadata": {},
   "outputs": [
    {
     "name": "stdout",
     "output_type": "stream",
     "text": [
      "CAPABL\n"
     ]
    }
   ],
   "source": [
    "print(Dict.get(3))"
   ]
  },
  {
   "cell_type": "code",
   "execution_count": 20,
   "id": "9539ca7d",
   "metadata": {},
   "outputs": [
    {
     "name": "stdout",
     "output_type": "stream",
     "text": [
      "Dictionary =\n",
      "{1: 'We', 2: 'are', 3: 'CAPABL'}\n",
      "Data after deletion Dictionary=\n",
      "{2: 'are', 3: 'CAPABL'}\n"
     ]
    }
   ],
   "source": [
    "# Python program to demonstrate\n",
    "# Deleting Elements using del Keyword\n",
    " \n",
    "# Creating a Dictionary\n",
    "Dict = {1: 'We', 2: 'are', 3: 'CAPABL'}\n",
    " \n",
    "print(\"Dictionary =\")\n",
    "print(Dict)\n",
    "#Deleting some of the Dictionar data\n",
    "del(Dict[1])\n",
    "print(\"Data after deletion Dictionary=\")\n",
    "print(Dict)"
   ]
  },
  {
   "cell_type": "code",
   "execution_count": 21,
   "id": "a44c0ac4",
   "metadata": {},
   "outputs": [
    {
     "name": "stdout",
     "output_type": "stream",
     "text": [
      "{1: 'Python', 2: 'Java', 3: 'Ruby', 4: 'Scala'}\n",
      "{}\n",
      "Python\n",
      "dict_items([(1, 'Python'), (2, 'Java'), (3, 'Ruby'), (4, 'Scala')])\n",
      "dict_keys([1, 2, 3, 4])\n",
      "{1: 'Python', 2: 'Java', 3: 'Ruby'}\n",
      "{1: 'Python', 2: 'Java'}\n",
      "{1: 'Python', 2: 'Java', 3: 'Scala'}\n",
      "dict_values(['Python', 'Java', 'Scala'])\n"
     ]
    }
   ],
   "source": [
    "# demo for all dictionary methods\n",
    "dict1 = {1: \"Python\", 2: \"Java\", 3: \"Ruby\", 4: \"Scala\"}\n",
    " \n",
    "# copy() method\n",
    "dict2 = dict1.copy()\n",
    "print(dict2)\n",
    " \n",
    "# clear() method\n",
    "dict1.clear()\n",
    "print(dict1)\n",
    " \n",
    "# get() method\n",
    "print(dict2.get(1))\n",
    " \n",
    "# items() method\n",
    "print(dict2.items())\n",
    " \n",
    "# keys() method\n",
    "print(dict2.keys())\n",
    " \n",
    "# pop() method\n",
    "dict2.pop(4)\n",
    "print(dict2)\n",
    " \n",
    "# popitem() method\n",
    "dict2.popitem()\n",
    "print(dict2)\n",
    " \n",
    "# update() method\n",
    "dict2.update({3: \"Scala\"})\n",
    "print(dict2)\n",
    " \n",
    "# values() method\n",
    "print(dict2.values())"
   ]
  },
  {
   "attachments": {},
   "cell_type": "markdown",
   "id": "ca700f86",
   "metadata": {},
   "source": [
    "# Nested dictionary"
   ]
  },
  {
   "attachments": {},
   "cell_type": "markdown",
   "id": "5076c16d",
   "metadata": {},
   "source": [
    "## A Dictionary in Python works similar to the Dictionary in the real world. Keys of a Dictionary must be unique and of immutable data type such as Strings, Integers and tuples, but the key-values can be repeated and be of any type.\n",
    "## Nested Dictionary: Nesting Dictionary means putting a dictionary inside another dictionary. Nesting is of great use as the kind of information we can model in programs is expanded greatly. \n"
   ]
  },
  {
   "cell_type": "code",
   "execution_count": 21,
   "id": "edf2be97",
   "metadata": {},
   "outputs": [
    {
     "name": "stdout",
     "output_type": "stream",
     "text": [
      "Nested dictionary 1-\n",
      "{'Dict1': {}, 'Dict2': {}}\n",
      "\n",
      "Nested dictionary 2-\n",
      "{'Dict1': {'name': 'Ali', 'age': '19'}, 'Dict2': {'name': 'Bob', 'age': '25'}}\n",
      "\n",
      "Nested dictionary 3-\n",
      "{'Dict1': [{1: 'We', 2: 'are', 3: 'Capabl'}, {2: 'hello'}], 'Dict2': {'Name': 'Capabl', 1: [1, 2]}}\n"
     ]
    }
   ],
   "source": [
    "\n",
    "# Empty nested dictionary\n",
    "Dict = { 'Dict1': { },\n",
    "         'Dict2': { }}\n",
    "print(\"Nested dictionary 1-\")\n",
    "print(Dict)\n",
    " \n",
    "# Nested dictionary having same keys\n",
    "Dict = { \n",
    "    'Dict1': {\n",
    "        'name': 'Ali', \n",
    "        'age': '19'},\n",
    "    'Dict2': {\n",
    "        'name': 'Bob', \n",
    "        'age': '25'}}\n",
    "print(\"\\nNested dictionary 2-\")\n",
    "print(Dict)\n",
    " \n",
    "# Nested dictionary of mixed dictionary keys\n",
    "Dict = { 'Dict1': [{1: 'We', 2: 'are', 3: 'Capabl'}, {2: 'hello'}],\n",
    "         'Dict2': {'Name': 'Capabl', 1: [1, 2]} }\n",
    "print(\"\\nNested dictionary 3-\")\n",
    "print(Dict)"
   ]
  },
  {
   "cell_type": "code",
   "execution_count": 23,
   "id": "5412648d",
   "metadata": {},
   "outputs": [
    {
     "name": "stdout",
     "output_type": "stream",
     "text": [
      "{'a': 1, 'b': 2, 'c': 3}\n"
     ]
    }
   ],
   "source": [
    "# Python3 program to Convert a\n",
    "# list to dictionary\n",
    " \n",
    "def Convert(lst):\n",
    "    res_dct = {lst[i]: lst[i + 1] for i in range(0, len(lst), 2)}\n",
    "    return res_dct\n",
    "         \n",
    "# Driver code\n",
    "lst = ['a', 1, 'b', 2, 'c', 3]\n",
    "print(Convert(lst))"
   ]
  },
  {
   "attachments": {},
   "cell_type": "markdown",
   "id": "3b619b69",
   "metadata": {},
   "source": [
    "# Using zip() method\n",
    "\n",
    "## First create an iterator, and initialize it to variable ‘it’. Then use zip method, to zip keys and values together. Finally typecast it to dict type. "
   ]
  },
  {
   "cell_type": "code",
   "execution_count": 8,
   "id": "a7ce651e",
   "metadata": {},
   "outputs": [
    {
     "name": "stdout",
     "output_type": "stream",
     "text": [
      "[('a', 1), ('b', 2), ('c', 3)]\n",
      "{'a': 1, 'b': 2, 'c': 3}\n"
     ]
    }
   ],
   "source": [
    "# Python3 program to Convert a\n",
    "# list to dictionary\n",
    "\n",
    "\n",
    "def Convert(a):\n",
    "\tit = iter(a)\n",
    "\tprint(it)\n",
    "\tit1 = iter(a)\n",
    "\tres_lst = list(zip(it, it))\n",
    "\tres_dct = dict(zip(it1, it1))\n",
    "\treturn res_dct, res_lst\n",
    "\n",
    "\n",
    "# Driver code\n",
    "lst = ['a', 1, 'b', 2, 'c', 3]\n",
    "dict_type_op, list_type_op = Convert(lst)\n",
    "print(list_type_op)\n",
    "print(dict_type_op)\n"
   ]
  },
  {
   "cell_type": "code",
   "execution_count": 7,
   "id": "e01281cf",
   "metadata": {},
   "outputs": [
    {
     "name": "stdout",
     "output_type": "stream",
     "text": [
      "['a', 1, 'b', 2, 'c', 3]\n"
     ]
    }
   ],
   "source": [
    "it = iter(['a', 1, 'b', 2, 'c', 3])\n",
    "print(list(it))"
   ]
  },
  {
   "attachments": {},
   "cell_type": "markdown",
   "id": "109bcd2b",
   "metadata": {},
   "source": [
    "# Convert dictionary to list of tuples"
   ]
  },
  {
   "attachments": {},
   "cell_type": "markdown",
   "id": "dd0ee92e",
   "metadata": {},
   "source": [
    "## Given a dictionary, write a Python program to convert the given dictionary into list of tuples. "
   ]
  },
  {
   "attachments": {},
   "cell_type": "markdown",
   "id": "193494e7",
   "metadata": {},
   "source": [
    "## Method #1: Using list comprehension "
   ]
  },
  {
   "cell_type": "code",
   "execution_count": 8,
   "id": "337aedf4",
   "metadata": {},
   "outputs": [
    {
     "name": "stdout",
     "output_type": "stream",
     "text": [
      "We 10\n",
      "Are 12\n",
      "Capabl 31\n",
      "dict_items([('We', 10), ('Are', 12), ('Capabl', 31)])\n",
      "<generator object <genexpr> at 0x107d57ca0>\n"
     ]
    }
   ],
   "source": [
    "\n",
    "# Python code to convert dictionary into list of tuples\n",
    " \n",
    "# Initialization of dictionary\n",
    "dict = {'We': 10, 'Are': 12, 'Capabl': 31}\n",
    "for k, v in dict.items():\n",
    "    print(k,v)\n",
    "print(dict.items())\n",
    "# Converting into list of tuple\n",
    "list = ((k, v) for k, v in dict.items())\n",
    " \n",
    "# Printing list of tuple\n",
    "print(list)"
   ]
  },
  {
   "attachments": {},
   "cell_type": "markdown",
   "id": "3a05edb0",
   "metadata": {},
   "source": [
    "## Method #2 : Using iteration"
   ]
  },
  {
   "cell_type": "code",
   "execution_count": 10,
   "id": "2a1a67dc",
   "metadata": {},
   "outputs": [
    {
     "name": "stdout",
     "output_type": "stream",
     "text": [
      "10\n",
      "12\n",
      "31\n",
      "[('We', 10), ('Are', 12), ('Capabl', 31)]\n"
     ]
    }
   ],
   "source": [
    "\n",
    "# Python code to convert dictionary into list of tuples\n",
    " \n",
    "# Initialization of dictionary\n",
    "dict = {'We': 10, 'Are': 12, 'Capabl': 31}\n",
    " \n",
    "# Initialization of empty list\n",
    "list_ept = []\n",
    " \n",
    "# Iteration\n",
    "for i in dict:\n",
    "    print(dict[i])\n",
    "    k = (i, dict[i])\n",
    "    list_ept.append(k)\n",
    "\n",
    "# Printing list\n",
    "print(list_ept)"
   ]
  },
  {
   "cell_type": "code",
   "execution_count": null,
   "id": "637e6285",
   "metadata": {},
   "outputs": [],
   "source": []
  }
 ],
 "metadata": {
  "kernelspec": {
   "display_name": "Python 3 (ipykernel)",
   "language": "python",
   "name": "python3"
  },
  "language_info": {
   "codemirror_mode": {
    "name": "ipython",
    "version": 3
   },
   "file_extension": ".py",
   "mimetype": "text/x-python",
   "name": "python",
   "nbconvert_exporter": "python",
   "pygments_lexer": "ipython3",
   "version": "3.11.4"
  }
 },
 "nbformat": 4,
 "nbformat_minor": 5
}
