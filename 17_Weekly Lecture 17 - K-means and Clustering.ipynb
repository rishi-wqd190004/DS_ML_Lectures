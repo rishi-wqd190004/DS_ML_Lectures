{
 "cells": [
  {
   "cell_type": "markdown",
   "metadata": {},
   "source": [
    "### Today's Topic: K-means Clustering"
   ]
  },
  {
   "cell_type": "markdown",
   "metadata": {},
   "source": [
    "### Last week's topic: Decision Tree and Random Forest\n",
    "- Working and using Decision tree and Random forest\n",
    "- Decision Tree vs Random forest (single tree vs multiple tree)\n",
    "- Feature importance during the modelling"
   ]
  },
  {
   "cell_type": "markdown",
   "metadata": {},
   "source": [
    "**_K-Means Clustering_** main idea: Group similar data points together and discover underlying patterns present.\n",
    "- The algo looks for a fixed number of clusters in a particular dataset"
   ]
  }
 ],
 "metadata": {
  "kernelspec": {
   "display_name": "onl_capbl",
   "language": "python",
   "name": "python3"
  },
  "language_info": {
   "name": "python",
   "version": "3.10.12"
  },
  "orig_nbformat": 4
 },
 "nbformat": 4,
 "nbformat_minor": 2
}
