{
 "cells": [
  {
   "attachments": {},
   "cell_type": "markdown",
   "id": "dcaed1c1",
   "metadata": {
    "tags": []
   },
   "source": [
    "# Strings / Functions / Operators / Loops / Conditional Statements / Dictionaries"
   ]
  },
  {
   "attachments": {},
   "cell_type": "markdown",
   "id": "58f05312",
   "metadata": {
    "tags": []
   },
   "source": [
    "### Write a Python program to remove spaces from a given string \"C A P A B L\""
   ]
  },
  {
   "cell_type": "code",
   "execution_count": 7,
   "id": "15b1e96c-5b0c-4b94-bb7c-ef0d882c1b50",
   "metadata": {},
   "outputs": [
    {
     "data": {
      "text/plain": [
       "'C,A,P,A,B,L'"
      ]
     },
     "execution_count": 7,
     "metadata": {},
     "output_type": "execute_result"
    }
   ],
   "source": [
    "string1 = \"C A P A B L\"\n",
    "string1.replace(\" \",\",\")"
   ]
  },
  {
   "attachments": {},
   "cell_type": "markdown",
   "id": "e38fc66e",
   "metadata": {
    "tags": []
   },
   "source": [
    "### Write a python program to remove the characters which have odd index values of a given string"
   ]
  },
  {
   "cell_type": "code",
   "execution_count": 5,
   "id": "42dd6c26",
   "metadata": {},
   "outputs": [
    {
     "name": "stdout",
     "output_type": "stream",
     "text": [
      "CPB\n",
      "PTO\n"
     ]
    }
   ],
   "source": [
    "def odd_values_string(str):\n",
    "    result = \"\" \n",
    "    for i in range(len(str)):\n",
    "        if i % 2 == 0:\n",
    "            result = result + str[i]\n",
    "    return result\n",
    "\n",
    "print(odd_values_string('CAPABL'))\n",
    "print(odd_values_string('PYTHON'))"
   ]
  },
  {
   "attachments": {},
   "cell_type": "markdown",
   "id": "a4cf8491",
   "metadata": {},
   "source": [
    "CAPABL --> 0,1,2,3....."
   ]
  },
  {
   "attachments": {},
   "cell_type": "markdown",
   "id": "523f1d88-c5d8-4213-bc93-31620e968fa0",
   "metadata": {
    "tags": []
   },
   "source": [
    "### Write a program to check a number is odd or even"
   ]
  },
  {
   "cell_type": "code",
   "execution_count": 1,
   "id": "db23d9d9",
   "metadata": {},
   "outputs": [
    {
     "name": "stdout",
     "output_type": "stream",
     "text": [
      "The Number 9 is odd\n",
      "The Number 10 is even\n"
     ]
    }
   ],
   "source": [
    "def odd_even(num):\n",
    "    if num % 2==0:\n",
    "        print(f'The Number {num} is even')\n",
    "    else:\n",
    "        print(f'The Number {num} is odd')\n",
    "        \n",
    "odd_even(9)\n",
    "odd_even(10)"
   ]
  },
  {
   "attachments": {},
   "cell_type": "markdown",
   "id": "1c5d9376",
   "metadata": {
    "tags": []
   },
   "source": [
    "### Write a program to print following pattern\n",
    "    Hint: chr(65) = 'A'\n",
    "\n",
    "    A [Use ASCII Values]\n",
    "    B B\n",
    "    C C C\n",
    "    D D D D\n",
    "    E E E E E"
   ]
  },
  {
   "cell_type": "code",
   "execution_count": 4,
   "id": "f8b120c7",
   "metadata": {},
   "outputs": [
    {
     "name": "stdout",
     "output_type": "stream",
     "text": [
      "A \n",
      "B B \n",
      "C C C \n",
      "D D D D \n",
      "E E E E E \n"
     ]
    }
   ],
   "source": [
    "n = 5\n",
    "p=65\n",
    "def pattern_funct(n,p):\n",
    "    for i in range(n): \n",
    "        for j in range(i+1): \n",
    "            print(chr(p), end=' ')\n",
    "        p+=1 \n",
    "        print()\n",
    "pattern_funct(n,p)"
   ]
  },
  {
   "cell_type": "code",
   "execution_count": 5,
   "id": "694f952d",
   "metadata": {},
   "outputs": [
    {
     "name": "stdout",
     "output_type": "stream",
     "text": [
      "A A A A A A "
     ]
    }
   ],
   "source": [
    "p = 65\n",
    "for j in range(5+1): \n",
    "            print(chr(p), end=' ')"
   ]
  },
  {
   "attachments": {},
   "cell_type": "markdown",
   "id": "00174749",
   "metadata": {
    "tags": []
   },
   "source": [
    "### Write a Program to print Pascal triangle\n",
    "\n",
    "    Pascal’s Triangle\n",
    "        1\n",
    "       1 1\n",
    "      1 2 1\n",
    "     1 3 3 1\n",
    "    1 4 6 4 1\n",
    "\n",
    "Reference: [Pascal Trianglre](https://www.javatpoint.com/python-program-to-print-pascal-triangle)"
   ]
  },
  {
   "cell_type": "code",
   "execution_count": 5,
   "id": "63da133c",
   "metadata": {},
   "outputs": [
    {
     "name": "stdout",
     "output_type": "stream",
     "text": [
      "       \n",
      "      1 \n",
      "     1 1 \n",
      "    1 2 1 \n",
      "   1 3 3 1 \n",
      "  1 4 6 4 1 \n",
      " 1 5 10 10 5 1 \n",
      "1 6 15 20 15 6 1 \n"
     ]
    }
   ],
   "source": [
    "def solve(n):\n",
    "    for i in range(n+1): #7\n",
    "        for j in range(n-i): #7\n",
    "            print(' ', end='')\n",
    "            \n",
    "        C = 1\n",
    "        for j in range(1, i+1):\n",
    "            print(C, ' ', sep='', end='')\n",
    "            C = C * (i - j) // j\n",
    "        print()\n",
    "\n",
    "n = 7\n",
    "solve(n)"
   ]
  },
  {
   "attachments": {},
   "cell_type": "markdown",
   "id": "eecd9e45",
   "metadata": {
    "tags": []
   },
   "source": [
    "### Program to create find even and odd numbers from a List and store it in different list\n",
    "eg: list1 = [1,4,5,23,56,7,9,4,2,67,56,34,98,78,100]"
   ]
  },
  {
   "cell_type": "code",
   "execution_count": 8,
   "id": "b9d9553c",
   "metadata": {},
   "outputs": [
    {
     "name": "stdout",
     "output_type": "stream",
     "text": [
      "([4, 56, 4, 2, 56, 34, 98, 78, 100], [1, 5, 23, 7, 9, 67])\n"
     ]
    }
   ],
   "source": [
    "list1 = [1,4,5,23,56,7,9,4,2,67,56,34,98,78,100]\n",
    "def odd_even_checker(list1):\n",
    "    even_num = []\n",
    "    odd_num = []\n",
    "    for i in list1:\n",
    "        if i%2 == 0:\n",
    "            even_num.append(i)\n",
    "        else:\n",
    "            odd_num.append(i)\n",
    "    return even_num, odd_num\n",
    "# print(even_num)\n",
    "# print(odd_num)  \n",
    "print(odd_even_checker(list1))  "
   ]
  },
  {
   "attachments": {},
   "cell_type": "markdown",
   "id": "e1d3f317",
   "metadata": {
    "tags": []
   },
   "source": [
    "### Python program to find the sum of all items in a dictionary\n",
    "\n",
    "    {'a': 100, 'b': 200, 'c': 300}"
   ]
  },
  {
   "cell_type": "code",
   "execution_count": 7,
   "id": "782a8b84",
   "metadata": {},
   "outputs": [
    {
     "name": "stdout",
     "output_type": "stream",
     "text": [
      "100\n",
      "200\n",
      "300\n",
      "Sum : 600\n"
     ]
    }
   ],
   "source": [
    "def returnSum(dict):\n",
    " \n",
    "    sum = 0\n",
    "    for i in dict:\n",
    "        print(dict[i])\n",
    "        sum = sum + dict[i]\n",
    " \n",
    "    return sum\n",
    "\n",
    "# Driver Function\n",
    "\n",
    "dict = {'a': 100, 'b': 200, 'c': 300}\n",
    "print(\"Sum :\", returnSum(dict))"
   ]
  },
  {
   "attachments": {},
   "cell_type": "markdown",
   "id": "d07bfde7",
   "metadata": {
    "tags": []
   },
   "source": [
    "### Python program to find the smallest and largest number in a list (Without min-max function)\n",
    "\n",
    "    [15,56,67,34,89,78,504,342,455,66,23]"
   ]
  },
  {
   "cell_type": "code",
   "execution_count": 81,
   "id": "afc1e3c7",
   "metadata": {},
   "outputs": [
    {
     "name": "stdout",
     "output_type": "stream",
     "text": [
      "The Smallest Num is: 15\n",
      "The Largest Num is: 504\n"
     ]
    }
   ],
   "source": [
    "list1=[15,56,67,34,89,78,504,342,455,66,23]\n",
    "list1.sort()\n",
    "print(f'The Smallest Num is: {list1[0]}')\n",
    "print(f'The Largest Num is: {list1[-1]}')"
   ]
  }
 ],
 "metadata": {
  "kernelspec": {
   "display_name": "Python 3 (ipykernel)",
   "language": "python",
   "name": "python3"
  },
  "language_info": {
   "codemirror_mode": {
    "name": "ipython",
    "version": 3
   },
   "file_extension": ".py",
   "mimetype": "text/x-python",
   "name": "python",
   "nbconvert_exporter": "python",
   "pygments_lexer": "ipython3",
   "version": "3.11.4"
  }
 },
 "nbformat": 4,
 "nbformat_minor": 5
}
